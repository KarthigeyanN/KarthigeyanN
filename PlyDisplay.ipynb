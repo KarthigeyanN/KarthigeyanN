{
  "nbformat": 4,
  "nbformat_minor": 0,
  "metadata": {
    "colab": {
      "provenance": [],
      "authorship_tag": "ABX9TyNO4ruW3OIHx55DMcLijVDb",
      "include_colab_link": true
    },
    "kernelspec": {
      "name": "python3",
      "display_name": "Python 3"
    },
    "language_info": {
      "name": "python"
    }
  },
  "cells": [
    {
      "cell_type": "markdown",
      "metadata": {
        "id": "view-in-github",
        "colab_type": "text"
      },
      "source": [
        "<a href=\"https://colab.research.google.com/github/KarthigeyanN/KarthigeyanN/blob/main/PlyDisplay.ipynb\" target=\"_parent\"><img src=\"https://colab.research.google.com/assets/colab-badge.svg\" alt=\"Open In Colab\"/></a>"
      ]
    },
    {
      "cell_type": "code",
      "execution_count": null,
      "metadata": {
        "colab": {
          "base_uri": "https://localhost:8080/"
        },
        "id": "ncy0pIFhVz5f",
        "outputId": "8d31295e-6fde-4302-812c-c5a336797b33"
      },
      "outputs": [
        {
          "output_type": "stream",
          "name": "stdout",
          "text": [
            "Collecting vedo\n",
            "  Downloading vedo-2025.5.3-py3-none-any.whl.metadata (14 kB)\n",
            "Collecting vtk (from vedo)\n",
            "  Downloading vtk-9.4.2-cp311-cp311-manylinux_2_17_x86_64.manylinux2014_x86_64.whl.metadata (5.5 kB)\n",
            "Requirement already satisfied: numpy in /usr/local/lib/python3.11/dist-packages (from vedo) (2.0.2)\n",
            "Requirement already satisfied: typing-extensions in /usr/local/lib/python3.11/dist-packages (from vedo) (4.13.2)\n",
            "Requirement already satisfied: Pygments in /usr/local/lib/python3.11/dist-packages (from vedo) (2.19.1)\n",
            "Requirement already satisfied: matplotlib>=2.0.0 in /usr/local/lib/python3.11/dist-packages (from vtk->vedo) (3.10.0)\n",
            "Requirement already satisfied: contourpy>=1.0.1 in /usr/local/lib/python3.11/dist-packages (from matplotlib>=2.0.0->vtk->vedo) (1.3.2)\n",
            "Requirement already satisfied: cycler>=0.10 in /usr/local/lib/python3.11/dist-packages (from matplotlib>=2.0.0->vtk->vedo) (0.12.1)\n",
            "Requirement already satisfied: fonttools>=4.22.0 in /usr/local/lib/python3.11/dist-packages (from matplotlib>=2.0.0->vtk->vedo) (4.58.0)\n",
            "Requirement already satisfied: kiwisolver>=1.3.1 in /usr/local/lib/python3.11/dist-packages (from matplotlib>=2.0.0->vtk->vedo) (1.4.8)\n",
            "Requirement already satisfied: packaging>=20.0 in /usr/local/lib/python3.11/dist-packages (from matplotlib>=2.0.0->vtk->vedo) (24.2)\n",
            "Requirement already satisfied: pillow>=8 in /usr/local/lib/python3.11/dist-packages (from matplotlib>=2.0.0->vtk->vedo) (11.2.1)\n",
            "Requirement already satisfied: pyparsing>=2.3.1 in /usr/local/lib/python3.11/dist-packages (from matplotlib>=2.0.0->vtk->vedo) (3.2.3)\n",
            "Requirement already satisfied: python-dateutil>=2.7 in /usr/local/lib/python3.11/dist-packages (from matplotlib>=2.0.0->vtk->vedo) (2.9.0.post0)\n",
            "Requirement already satisfied: six>=1.5 in /usr/local/lib/python3.11/dist-packages (from python-dateutil>=2.7->matplotlib>=2.0.0->vtk->vedo) (1.17.0)\n",
            "Downloading vedo-2025.5.3-py3-none-any.whl (2.8 MB)\n",
            "\u001b[2K   \u001b[90m━━━━━━━━━━━━━━━━━━━━━━━━━━━━━━━━━━━━━━━━\u001b[0m \u001b[32m2.8/2.8 MB\u001b[0m \u001b[31m26.9 MB/s\u001b[0m eta \u001b[36m0:00:00\u001b[0m\n",
            "\u001b[?25hDownloading vtk-9.4.2-cp311-cp311-manylinux_2_17_x86_64.manylinux2014_x86_64.whl (105.0 MB)\n",
            "\u001b[2K   \u001b[90m━━━━━━━━━━━━━━━━━━━━━━━━━━━━━━━━━━━━━━━━\u001b[0m \u001b[32m105.0/105.0 MB\u001b[0m \u001b[31m9.5 MB/s\u001b[0m eta \u001b[36m0:00:00\u001b[0m\n",
            "\u001b[?25hInstalling collected packages: vtk, vedo\n",
            "Successfully installed vedo-2025.5.3 vtk-9.4.2\n",
            "Requirement already satisfied: vtk in /usr/local/lib/python3.11/dist-packages (9.4.2)\n",
            "Requirement already satisfied: matplotlib>=2.0.0 in /usr/local/lib/python3.11/dist-packages (from vtk) (3.10.0)\n",
            "Requirement already satisfied: contourpy>=1.0.1 in /usr/local/lib/python3.11/dist-packages (from matplotlib>=2.0.0->vtk) (1.3.2)\n",
            "Requirement already satisfied: cycler>=0.10 in /usr/local/lib/python3.11/dist-packages (from matplotlib>=2.0.0->vtk) (0.12.1)\n",
            "Requirement already satisfied: fonttools>=4.22.0 in /usr/local/lib/python3.11/dist-packages (from matplotlib>=2.0.0->vtk) (4.58.0)\n",
            "Requirement already satisfied: kiwisolver>=1.3.1 in /usr/local/lib/python3.11/dist-packages (from matplotlib>=2.0.0->vtk) (1.4.8)\n",
            "Requirement already satisfied: numpy>=1.23 in /usr/local/lib/python3.11/dist-packages (from matplotlib>=2.0.0->vtk) (2.0.2)\n",
            "Requirement already satisfied: packaging>=20.0 in /usr/local/lib/python3.11/dist-packages (from matplotlib>=2.0.0->vtk) (24.2)\n",
            "Requirement already satisfied: pillow>=8 in /usr/local/lib/python3.11/dist-packages (from matplotlib>=2.0.0->vtk) (11.2.1)\n",
            "Requirement already satisfied: pyparsing>=2.3.1 in /usr/local/lib/python3.11/dist-packages (from matplotlib>=2.0.0->vtk) (3.2.3)\n",
            "Requirement already satisfied: python-dateutil>=2.7 in /usr/local/lib/python3.11/dist-packages (from matplotlib>=2.0.0->vtk) (2.9.0.post0)\n",
            "Requirement already satisfied: six>=1.5 in /usr/local/lib/python3.11/dist-packages (from python-dateutil>=2.7->matplotlib>=2.0.0->vtk) (1.17.0)\n"
          ]
        }
      ],
      "source": [
        "# -*- coding: utf-8 -*-\n",
        "\"\"\"\n",
        "Created on Sat Jan  4 16:32:31 2025\n",
        "\n",
        "@author: karthi\n",
        "\"\"\"\n",
        "!pip install vedo\n",
        "!pip install vtk"
      ]
    },
    {
      "cell_type": "code",
      "source": [
        "import vedo\n",
        "msh = vedo.Mesh(\"sample_data/test.ply\")\n",
        "\n",
        "print (type(msh))\n"
      ],
      "metadata": {
        "colab": {
          "base_uri": "https://localhost:8080/"
        },
        "id": "uDjDIDQ1Wc0N",
        "outputId": "8e8a2f9b-23e8-40d9-99b6-f7e0def8d1d9"
      },
      "execution_count": null,
      "outputs": [
        {
          "output_type": "stream",
          "name": "stdout",
          "text": [
            "<class 'vedo.mesh.Mesh'>\n"
          ]
        }
      ]
    },
    {
      "cell_type": "code",
      "source": [
        "msh.rotate_y(90)\n",
        "msh.rotate_z(90)\n",
        "pd = msh.polydata()\n",
        "pts = msh.points\n",
        "print (pd)\n",
        "print (pts)"
      ],
      "metadata": {
        "colab": {
          "base_uri": "https://localhost:8080/"
        },
        "id": "oOyhzIuWXFMC",
        "outputId": "d19a12f5-d29f-4b28-d601-1907b7aef1ee"
      },
      "execution_count": null,
      "outputs": [
        {
          "output_type": "stream",
          "name": "stdout",
          "text": [
            "\u001b[1m\u001b[33mWARNING: call to .polydata() is obsolete, use property .dataset instead.\u001b[0m\n",
            "vtkPolyData (0x418460c0)\n",
            "  Debug: Off\n",
            "  Modified Time: 270147\n",
            "  Reference Count: 3\n",
            "  Registered Events: (none)\n",
            "  Information: 0x41b85f90\n",
            "  Data Released: False\n",
            "  Global Release Data: Off\n",
            "  UpdateTime: 270047\n",
            "  Field Data:\n",
            "    Debug: Off\n",
            "    Modified Time: 270136\n",
            "    Reference Count: 1\n",
            "    Registered Events: (none)\n",
            "    Number Of Arrays: 0\n",
            "    Number Of Components: 0\n",
            "    Number Of Tuples: 0\n",
            "  Number Of Points: 22804\n",
            "  Number Of Cells: 44177\n",
            "  Cell Data:\n",
            "    Debug: Off\n",
            "    Modified Time: 270120\n",
            "    Reference Count: 1\n",
            "    Registered Events: \n",
            "      Registered Observers:\n",
            "        vtkObserver (0x41b0cdd0)\n",
            "          Event: 33\n",
            "          EventName: ModifiedEvent\n",
            "          Command: 0x41a986a0\n",
            "          Priority: 0\n",
            "          Tag: 1\n",
            "    Number Of Arrays: 0\n",
            "    Number Of Components: 0\n",
            "    Number Of Tuples: 0\n",
            "    Copy Tuple Flags: ( 1 1 1 1 1 0 1 1 1 1 1 1 )\n",
            "    Interpolate Flags: ( 1 1 1 1 1 0 0 1 1 1 1 0 )\n",
            "    Pass Through Flags: ( 1 1 1 1 1 1 1 1 1 1 1 1 )\n",
            "    Scalars: (none)\n",
            "    Vectors: (none)\n",
            "    Normals: (none)\n",
            "    TCoords: (none)\n",
            "    Tensors: (none)\n",
            "    GlobalIds: (none)\n",
            "    PedigreeIds: (none)\n",
            "    EdgeFlag: (none)\n",
            "    Tangents: (none)\n",
            "    RationalWeights: (none)\n",
            "    HigherOrderDegrees: (none)\n",
            "    ProcessIds: (none)\n",
            "  Point Data:\n",
            "    Debug: Off\n",
            "    Modified Time: 270134\n",
            "    Reference Count: 1\n",
            "    Registered Events: \n",
            "      Registered Observers:\n",
            "        vtkObserver (0x418efeb0)\n",
            "          Event: 33\n",
            "          EventName: ModifiedEvent\n",
            "          Command: 0x41a986a0\n",
            "          Priority: 0\n",
            "          Tag: 1\n",
            "    Number Of Arrays: 2\n",
            "    Array 0 name = Normals\n",
            "    Array 1 name = RGB\n",
            "    Number Of Components: 6\n",
            "    Number Of Tuples: 22804\n",
            "    Copy Tuple Flags: ( 1 1 0 1 1 0 1 1 1 1 1 1 )\n",
            "    Interpolate Flags: ( 1 1 0 1 1 0 0 1 1 1 1 0 )\n",
            "    Pass Through Flags: ( 1 1 0 1 1 1 1 1 1 1 1 1 )\n",
            "    Scalars: \n",
            "      Debug: Off\n",
            "      Modified Time: 270133\n",
            "      Reference Count: 1\n",
            "      Registered Events: (none)\n",
            "      Name: RGB\n",
            "      Data type: unsigned char\n",
            "      Size: 68412\n",
            "      MaxId: 68411\n",
            "      NumberOfComponents: 3\n",
            "      Information: 0\n",
            "      Name: RGB\n",
            "      Number Of Components: 3\n",
            "      Number Of Tuples: 22804\n",
            "      Size: 68412\n",
            "      MaxId: 68411\n",
            "      LookupTable: (none)\n",
            "    Vectors: (none)\n",
            "    Normals: \n",
            "      Debug: Off\n",
            "      Modified Time: 270128\n",
            "      Reference Count: 1\n",
            "      Registered Events: (none)\n",
            "      Name: Normals\n",
            "      Data type: float\n",
            "      Size: 68412\n",
            "      MaxId: 68411\n",
            "      NumberOfComponents: 3\n",
            "      Information: 0\n",
            "      Name: Normals\n",
            "      Number Of Components: 3\n",
            "      Number Of Tuples: 22804\n",
            "      Size: 68412\n",
            "      MaxId: 68411\n",
            "      LookupTable: (none)\n",
            "    TCoords: (none)\n",
            "    Tensors: (none)\n",
            "    GlobalIds: (none)\n",
            "    PedigreeIds: (none)\n",
            "    EdgeFlag: (none)\n",
            "    Tangents: (none)\n",
            "    RationalWeights: (none)\n",
            "    HigherOrderDegrees: (none)\n",
            "    ProcessIds: (none)\n",
            "  Bounds: \n",
            "    Xmin,Xmax: (-1.42081, 32.5457)\n",
            "    Ymin,Ymax: (-33.0481, -9.66391)\n",
            "    Zmin,Zmax: (-40.0281, -4.13886)\n",
            "  Compute Time: 270166\n",
            "  Editable: false\n",
            "  Number Of Points: 22804\n",
            "  Point Coordinates: 0x41eba940\n",
            "  PointLocator: 0\n",
            "  CellLocator: 0\n",
            "  Number Of Vertices: 0\n",
            "  Number Of Lines: 0\n",
            "  Number Of Polygons: 44177\n",
            "  Number Of Triangle Strips: 0\n",
            "  Number Of Pieces: 1\n",
            "  Piece: 0\n",
            "  Ghost Level: 0\n",
            "  CellsBounds: \n",
            "    Xmin,Xmax: (-1.42081, 32.5457)\n",
            "    Ymin,Ymax: (-33.0481, -9.66391)\n",
            "    Zmin,Zmax: (-40.0281, -4.13886)\n",
            "  CellsBounds Time: 270167\n",
            "\n",
            "\n",
            "[[ -1.42081 -21.8104  -20.026  ]\n",
            " [ -1.42081 -21.4629  -20.7167 ]\n",
            " [ -1.42081 -21.5259  -21.0621 ]\n",
            " ...\n",
            " [ 32.4256  -16.5931  -14.1547 ]\n",
            " [ 32.3253  -16.5931  -14.5    ]\n",
            " [ 32.2756  -16.2466  -14.1547 ]]\n"
          ]
        }
      ]
    },
    {
      "cell_type": "code",
      "source": [
        "import numpy as np\n",
        "import vtk\n",
        "from vedo import Plotter, Sphere, settings\n",
        "settings.default_backend = 'vtk'\n",
        "from vtk.util.numpy_support import numpy_to_vtk\n",
        "#pd = vtk.vtkPolyData()\n",
        "g = numpy_to_vtk(np.zeros_like(pts)+pts*2) # whatever..\n",
        "pd.GetPoints().SetData(g)\n",
        "vedo.show(pd)"
      ],
      "metadata": {
        "colab": {
          "base_uri": "https://localhost:8080/"
        },
        "id": "Ra17m4R9XvTM",
        "outputId": "15e9f13e-a441-4daf-d4f0-68f66c9fba9f"
      },
      "execution_count": null,
      "outputs": [
        {
          "output_type": "execute_result",
          "data": {
            "text/plain": [
              "<vedo.plotter.Plotter at 0x7e9476425610>"
            ]
          },
          "metadata": {},
          "execution_count": 18
        }
      ]
    }
  ]
}